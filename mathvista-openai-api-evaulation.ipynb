{
 "cells": [
  {
   "cell_type": "code",
   "execution_count": null,
   "metadata": {},
   "outputs": [
    {
     "name": "stderr",
     "output_type": "stream",
     "text": [
      "/home/local/ASURITE/skumbha4/.conda/envs/shri_env/lib/python3.12/site-packages/tqdm/auto.py:21: TqdmWarning: IProgress not found. Please update jupyter and ipywidgets. See https://ipywidgets.readthedocs.io/en/stable/user_install.html\n",
      "  from .autonotebook import tqdm as notebook_tqdm\n"
     ]
    }
   ],
   "source": [
    "import os\n",
    "import json\n",
    "\n",
    "#Loading Math Vista Dataset\n",
    "from datasets import load_dataset\n",
    "from openai import OpenAI # type: ignore\n",
    "\n",
    "os.environ[\"OPENAI_API_KEY\"] = \"\"\n",
    "dataset = load_dataset(\"AI4Math/MathVista\")\n",
    "client = OpenAI()"
   ]
  },
  {
   "cell_type": "code",
   "execution_count": 2,
   "metadata": {},
   "outputs": [
    {
     "name": "stdout",
     "output_type": "stream",
     "text": [
      "{'pid': '2', 'Ground Truth': '1000', 'Prediction': 'The total volume of the measuring cup is 500 grams.'}\n"
     ]
    }
   ],
   "source": [
    "import json\n",
    "from tqdm import tqdm\n",
    "# Path to your JSON file\n",
    "file_path = \"./paraphrased_no_cot_no_image.json\"\n",
    "\n",
    "# Open and read the JSON file\n",
    "with open(file_path, \"r\") as file:\n",
    "    data = json.load(file)  # Parse JSON content into a Python dictionary\n",
    "\n",
    "# Print the loaded JSON data\n",
    "print(str(data[0]))"
   ]
  },
  {
   "cell_type": "code",
   "execution_count": 3,
   "metadata": {},
   "outputs": [
    {
     "name": "stderr",
     "output_type": "stream",
     "text": [
      "100%|██████████| 418/418 [03:31<00:00,  1.98it/s]"
     ]
    },
    {
     "name": "stdout",
     "output_type": "stream",
     "text": [
      "Written to evaulations/eval_paraphrased_no_cot_no_image.json\n"
     ]
    },
    {
     "name": "stderr",
     "output_type": "stream",
     "text": [
      "\n"
     ]
    }
   ],
   "source": [
    "evaulation = []\n",
    "for sample in tqdm(data):\n",
    "    chat_completion = client.chat.completions.create(\n",
    "    model=\"gpt-4o-mini\",\n",
    "    messages=[\n",
    "        {\n",
    "        \"role\": \"system\",\n",
    "        \"content\": 'You are a strict evaluator comparing a \"Ground Truth\" value and a \"Prediction\" value. Your task is to determine if they are equivalent. The values may be integers, integers written in words, or sentences where a numeric answer is embedded. If the Prediction matches the Ground Truth in meaning, return \"True\". Otherwise, return \"False\". Only respond with \"True\" or \"False\" without any additional explanation.'\n",
    "        },\n",
    "        {\n",
    "        \"role\": \"user\",\n",
    "        \"content\": str(sample)\n",
    "        }\n",
    "    ]\n",
    "    )\n",
    "\n",
    "    response_text = chat_completion.choices[0].message.content\n",
    "\n",
    "    sample['eval'] = response_text\n",
    "    evaulation.append(sample)\n",
    "\n",
    "    # print(response_text)\n",
    "# File name\n",
    "file_name = \"evaulations/eval_paraphrased_no_cot_no_image.json\"\n",
    "\n",
    "# Writing the list to a JSON file\n",
    "with open(file_name, \"w\") as json_file:\n",
    "    json.dump(evaulation, json_file, indent=4)  # 'indent=4' makes the JSON file more readable\n",
    "\n",
    "print(f\"Written to {file_name}\")"
   ]
  },
  {
   "cell_type": "code",
   "execution_count": 4,
   "metadata": {},
   "outputs": [
    {
     "name": "stdout",
     "output_type": "stream",
     "text": [
      "Accuracy: 8.13%\n"
     ]
    }
   ],
   "source": [
    "# Sample JSON data (replace this with your JSON data)\n",
    "\n",
    "# Calculate accuracy\n",
    "def calculate_accuracy(data):\n",
    "    total_records = len(data)\n",
    "    true_count = sum(1 for record in data if record[\"eval\"] == \"True\")\n",
    "    accuracy = (true_count / total_records) * 100 if total_records > 0 else 0\n",
    "    return accuracy\n",
    "\n",
    "# Calculate and print the accuracy\n",
    "accuracy = calculate_accuracy(evaulation)\n",
    "print(f\"Accuracy: {accuracy:.2f}%\")\n"
   ]
  },
  {
   "cell_type": "code",
   "execution_count": 5,
   "metadata": {},
   "outputs": [
    {
     "data": {
      "text/plain": [
       "418"
      ]
     },
     "execution_count": 5,
     "metadata": {},
     "output_type": "execute_result"
    }
   ],
   "source": [
    "len(data)"
   ]
  },
  {
   "cell_type": "code",
   "execution_count": null,
   "metadata": {},
   "outputs": [],
   "source": []
  }
 ],
 "metadata": {
  "kernelspec": {
   "display_name": "shri_env",
   "language": "python",
   "name": "python3"
  },
  "language_info": {
   "codemirror_mode": {
    "name": "ipython",
    "version": 3
   },
   "file_extension": ".py",
   "mimetype": "text/x-python",
   "name": "python",
   "nbconvert_exporter": "python",
   "pygments_lexer": "ipython3",
   "version": "3.12.5"
  }
 },
 "nbformat": 4,
 "nbformat_minor": 2
}
