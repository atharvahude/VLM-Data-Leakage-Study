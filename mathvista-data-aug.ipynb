{
 "cells": [
  {
   "cell_type": "code",
   "execution_count": null,
   "metadata": {},
   "outputs": [],
   "source": [
    "import os\n",
    "import json\n",
    "\n",
    "#Loading Math Vista Dataset\n",
    "from datasets import load_dataset\n",
    "from openai import OpenAI # type: ignore\n",
    "\n",
    "os.environ[\"OPENAI_API_KEY\"] = \"\"\n",
    "dataset = load_dataset(\"AI4Math/MathVista\")\n",
    "client = OpenAI()"
   ]
  },
  {
   "cell_type": "code",
   "execution_count": 3,
   "metadata": {},
   "outputs": [],
   "source": [
    "# print the first example on the testmini set\n",
    "# print(dataset[\"testmini\"][13])\n",
    "# print(dataset[\"testmini\"][13]['pid']) # print the problem id \n",
    "# print(dataset[\"testmini\"][13]['question']) # print the question text \n",
    "# print(dataset[\"testmini\"][13]['query']) # print the query text\n",
    "# print(dataset[\"testmini\"][13]['image']) # print the image path\n",
    "# print(dataset[\"testmini\"][13]['answer']) # print the answer\n",
    "# dataset[\"testmini\"][13]['decoded_image'] # display the image"
   ]
  },
  {
   "cell_type": "code",
   "execution_count": 4,
   "metadata": {},
   "outputs": [],
   "source": [
    "answer_type = {'float':0,'integer':0,'list':0,'text':0}\n",
    "\n",
    "for i in range(1000):\n",
    "    answer_type[dataset[\"testmini\"][i]['answer_type']] += 1\n",
    "        "
   ]
  },
  {
   "cell_type": "code",
   "execution_count": 5,
   "metadata": {},
   "outputs": [
    {
     "data": {
      "text/plain": [
       "{'float': 40, 'integer': 418, 'list': 2, 'text': 540}"
      ]
     },
     "execution_count": 5,
     "metadata": {},
     "output_type": "execute_result"
    }
   ],
   "source": [
    "answer_type"
   ]
  },
  {
   "cell_type": "code",
   "execution_count": 6,
   "metadata": {},
   "outputs": [],
   "source": [
    "int_indices = []\n",
    "for i in range(1000):\n",
    "    if dataset[\"testmini\"][i]['answer_type'] == 'integer':\n",
    "        int_indices.append(i)"
   ]
  },
  {
   "cell_type": "code",
   "execution_count": 7,
   "metadata": {},
   "outputs": [],
   "source": [
    "responses = []\n",
    "for index in int_indices:\n",
    "    \n",
    "    paraphrase ={\n",
    "                'pid':None,\n",
    "                'question':'',\n",
    "                'query': ''\n",
    "                }\n",
    "    \n",
    "    chat_completion = client.chat.completions.create(\n",
    "    model=\"gpt-4o-mini\",\n",
    "    messages=[\n",
    "        {\n",
    "        \"role\": \"system\",\n",
    "        \"content\": \"You will be provided with math question, and your task is to paraphrase them to standard English.\"\n",
    "        },\n",
    "        {\n",
    "        \"role\": \"user\",\n",
    "        \"content\": dataset[\"testmini\"][index]['question']\n",
    "        }\n",
    "    ]\n",
    "    )\n",
    "\n",
    "    pid = dataset[\"testmini\"][index]['pid']\n",
    "    response_text = chat_completion.choices[0].message.content\n",
    "    paraphrase[\"pid\"] = pid\n",
    "    paraphrase[\"question\"] = response_text\n",
    "    responses.append(paraphrase)\n",
    "\n",
    "    "
   ]
  },
  {
   "cell_type": "code",
   "execution_count": 8,
   "metadata": {},
   "outputs": [],
   "source": [
    "responses_index = 0\n",
    "\n",
    "for index in int_indices:\n",
    "    chat_completion = client.chat.completions.create(\n",
    "    model=\"gpt-4o-mini\",\n",
    "    messages=[\n",
    "        {\n",
    "        \"role\": \"system\",\n",
    "        \"content\": \"You will be provided with math question's hint, and your task is to paraphrase them to standard English.\"\n",
    "        },\n",
    "        {\n",
    "        \"role\": \"user\",\n",
    "        \"content\": dataset[\"testmini\"][index]['query']\n",
    "        }\n",
    "    ]\n",
    "    )\n",
    "\n",
    "    response_text = chat_completion.choices[0].message.content\n",
    "\n",
    "    responses[responses_index]['query'] = response_text\n",
    "    responses_index += 1"
   ]
  },
  {
   "cell_type": "code",
   "execution_count": 9,
   "metadata": {},
   "outputs": [
    {
     "name": "stdout",
     "output_type": "stream",
     "text": [
      "Pharaphrased dataset has been written to paraphrase_dataset.json\n"
     ]
    }
   ],
   "source": [
    "\n",
    "\n",
    "# File name\n",
    "file_name = \"paraphrase_dataset.json\"\n",
    "\n",
    "# Writing the list to a JSON file\n",
    "with open(file_name, \"w\") as json_file:\n",
    "    json.dump(responses, json_file, indent=4)  # 'indent=4' makes the JSON file more readable\n",
    "\n",
    "print(f\"Pharaphrased dataset has been written to {file_name}\")\n"
   ]
  },
  {
   "cell_type": "code",
   "execution_count": null,
   "metadata": {},
   "outputs": [],
   "source": []
  }
 ],
 "metadata": {
  "kernelspec": {
   "display_name": "shri_env",
   "language": "python",
   "name": "python3"
  },
  "language_info": {
   "codemirror_mode": {
    "name": "ipython",
    "version": 3
   },
   "file_extension": ".py",
   "mimetype": "text/x-python",
   "name": "python",
   "nbconvert_exporter": "python",
   "pygments_lexer": "ipython3",
   "version": "3.12.5"
  }
 },
 "nbformat": 4,
 "nbformat_minor": 2
}
