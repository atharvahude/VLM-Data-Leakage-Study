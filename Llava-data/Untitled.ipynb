{
 "cells": [
  {
   "cell_type": "code",
   "execution_count": 11,
   "id": "500892ed",
   "metadata": {},
   "outputs": [
    {
     "name": "stdout",
     "output_type": "stream",
     "text": [
      "Accuracy summary saved to ./accuracy_summary.csv\n"
     ]
    }
   ],
   "source": [
    "import os\n",
    "import pandas as pd\n",
    "\n",
    "# Folder containing the Excel files (current directory)\n",
    "folder_path = './'\n",
    "\n",
    "# Dictionary to store the accuracy for each column and DataFrame\n",
    "accuracy_results = []\n",
    "\n",
    "# Iterate over all files in the folder\n",
    "for file_name in os.listdir(folder_path):\n",
    "    if file_name.endswith('.xlsx') or file_name.endswith('.xls'):  # Check if it's an Excel file\n",
    "        file_path = os.path.join(folder_path, file_name)  # Get the full path\n",
    "        \n",
    "        # Extract 'someVariable' from the filename\n",
    "        base_name = os.path.splitext(file_name)[0]  # Remove the file extension\n",
    "        parts = base_name.split('_')  # Split by underscore\n",
    "        if len(parts) > 1 and parts[0] == 'output':  # Ensure it starts with 'output'\n",
    "            some_variable = '_'.join(parts[1:])  # Join everything after 'output'\n",
    "        else:\n",
    "            some_variable = base_name  # Fallback to the full name if not in expected format\n",
    "        \n",
    "        # Load the Excel file into a DataFrame\n",
    "        df = pd.read_excel(file_path)\n",
    "        \n",
    "        # Dynamically identify the columns starting with 'Model' and categorize them\n",
    "        model_columns = [col for col in df.columns if col.startswith('Model')]\n",
    "        model_dash_column = next((col for col in model_columns if col.startswith('Model-')), None)\n",
    "        model_text_column = next((col for col in model_columns if not col.startswith('Model-')), None)\n",
    "        \n",
    "        # Ensure the required columns exist\n",
    "        if model_dash_column and model_text_column and 'answer' in df.columns:\n",
    "            # Extract the relevant columns and convert to lowercase for comparison\n",
    "            model_dash_matches = df[model_dash_column].str.lower() == df['answer'].str.lower()\n",
    "            model_text_matches = df[model_text_column].str.lower() == df['answer'].str.lower()\n",
    "            \n",
    "            # Calculate accuracy for both columns\n",
    "            model_dash_accuracy = model_dash_matches.mean() * 100  # Accuracy in percentage\n",
    "            model_text_accuracy = model_text_matches.mean() * 100  # Accuracy in percentage\n",
    "            \n",
    "            # Append the results to the list\n",
    "            accuracy_results.append({\n",
    "                'File': some_variable,\n",
    "                f'Modified Accuracy': model_dash_accuracy,\n",
    "                f'Original  Accuracy': model_text_accuracy\n",
    "            })\n",
    "\n",
    "# Convert the results to a DataFrame\n",
    "accuracy_df = pd.DataFrame(accuracy_results)\n",
    "\n",
    "# Save the results to a CSV file\n",
    "output_csv_path = './accuracy_summary.csv'\n",
    "accuracy_df.to_csv(output_csv_path, index=False)\n",
    "\n",
    "print(f\"Accuracy summary saved to {output_csv_path}\")\n"
   ]
  },
  {
   "cell_type": "code",
   "execution_count": null,
   "id": "aad9f55e",
   "metadata": {},
   "outputs": [],
   "source": []
  },
  {
   "cell_type": "code",
   "execution_count": null,
   "id": "5b6b4405",
   "metadata": {},
   "outputs": [],
   "source": []
  }
 ],
 "metadata": {
  "kernelspec": {
   "display_name": "Python 3 (ipykernel)",
   "language": "python",
   "name": "python3"
  },
  "language_info": {
   "codemirror_mode": {
    "name": "ipython",
    "version": 3
   },
   "file_extension": ".py",
   "mimetype": "text/x-python",
   "name": "python",
   "nbconvert_exporter": "python",
   "pygments_lexer": "ipython3",
   "version": "3.8.17"
  }
 },
 "nbformat": 4,
 "nbformat_minor": 5
}
